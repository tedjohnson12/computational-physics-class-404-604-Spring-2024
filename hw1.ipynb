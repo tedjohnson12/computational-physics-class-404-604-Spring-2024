{
 "cells": [
  {
   "cell_type": "markdown",
   "metadata": {},
   "source": [
    "# HW 1\n",
    "\n",
    "### A quick Hello World"
   ]
  },
  {
   "cell_type": "code",
   "execution_count": 1,
   "metadata": {},
   "outputs": [
    {
     "name": "stdout",
     "output_type": "stream",
     "text": [
      "Hello World!\n",
      "My python version is: Python 3.11.7\n",
      "My python interpreter path is: /home/ted/anaconda3/envs/phys604/bin/python\n"
     ]
    }
   ],
   "source": [
    "print('Hello World!')\n",
    "\n",
    "from os import system\n",
    "\n",
    "print('My python version is: ', end='')\n",
    "system('python --version')\n",
    "\n",
    "print('My python interpreter path is: ', end='')\n",
    "_=system('which python')"
   ]
  }
 ],
 "metadata": {
  "kernelspec": {
   "display_name": "phys604",
   "language": "python",
   "name": "python3"
  },
  "language_info": {
   "codemirror_mode": {
    "name": "ipython",
    "version": 3
   },
   "file_extension": ".py",
   "mimetype": "text/x-python",
   "name": "python",
   "nbconvert_exporter": "python",
   "pygments_lexer": "ipython3",
   "version": "3.11.7"
  }
 },
 "nbformat": 4,
 "nbformat_minor": 2
}
