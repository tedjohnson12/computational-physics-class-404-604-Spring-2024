{
 "cells": [
  {
   "cell_type": "markdown",
   "metadata": {},
   "source": [
    "# Physics 404/604\n",
    "\n",
    "## Computational Physics \n",
    "\n",
    "| Instructor | Prof. Zhaohuan Zhu                 |\n",
    "| ---------- | :--------------------------------- |\n",
    "| Email      | zhaohuan.zhu@unlv.edu              |\n",
    "| Website    | http://www.physics.unlv.edu/~zhzhu |\n",
    "| Office     | BPB 245                            |\n",
    "\n"
   ]
  },
  {
   "cell_type": "markdown",
   "metadata": {},
   "source": [
    "## 1. Error in operations"
   ]
  },
  {
   "cell_type": "code",
   "execution_count": 1,
   "metadata": {},
   "outputs": [
    {
     "name": "stdout",
     "output_type": "stream",
     "text": [
      "0.1000100000000000016742163211347 0.2000200000000000033484326422695 0.3000300000000000189004367712187 0.2999999999999999888977697537484\n",
      " the relative of the difference is  0.00010000000000021103\n"
     ]
    }
   ],
   "source": [
    "# if the relative error is 1.e-4, calculate the relative error of 0.1+0.2\n",
    "\n",
    "num1=0.1*(1.+1.e-4)\n",
    "num2=0.2*(1.+1.e-4)\n",
    "numtrue=0.3\n",
    "print(\"%.31f %.31f %.31f %.31f\"%(num1,num2, num1+num2, numtrue))\n",
    "print(\" the relative of the difference is \",abs((num1+num2)/numtrue-1.))\n"
   ]
  },
  {
   "cell_type": "code",
   "execution_count": 2,
   "metadata": {},
   "outputs": [
    {
     "name": "stdout",
     "output_type": "stream",
     "text": [
      "0.1000100000000000016742163211347 0.2000200000000000033484326422695 0.0200040002000000001480817246602 0.0200000000000000004163336342344\n",
      " the relative of the difference is  0.0002000099999999172\n"
     ]
    }
   ],
   "source": [
    "# if the relative error is 1.e-4, calculate the relative error of 0.1*0.2\n",
    "\n",
    "num1=0.1*(1.+1.e-4)\n",
    "num2=0.2*(1.+1.e-4)\n",
    "numtrue=0.02\n",
    "print(\"%.31f %.31f %.31f %.31f\"%(num1,num2, num1*num2, numtrue))\n",
    "print(\" the relative of the difference is \",abs((num1*num2)/numtrue-1.))\n"
   ]
  },
  {
   "cell_type": "code",
   "execution_count": 3,
   "metadata": {},
   "outputs": [
    {
     "name": "stdout",
     "output_type": "stream",
     "text": [
      "0.1000100000000000016742163211347 0.1999800000000000188560278502337 0.5001000100010000171124602275086 0.5000000000000000000000000000000\n",
      " the relative of the difference is  0.00020002000200003422\n"
     ]
    }
   ],
   "source": [
    "# if the relative error is 1.e-4, calculate the relative error of 0.1/0.2\n",
    "\n",
    "num1=0.1*(1.+1.e-4)\n",
    "num2=0.2*(1.-1.e-4)\n",
    "numtrue=0.5\n",
    "print(\"%.31f %.31f %.31f %.31f\"%(num1,num2, num1/num2, numtrue))\n",
    "print(\" the relative of the difference is \",abs((num1/num2)/numtrue-1.))\n"
   ]
  },
  {
   "cell_type": "markdown",
   "metadata": {},
   "source": [
    "### 1.1 Pay special attention to substraction (esp. for two numbers which are very close to each other)"
   ]
  },
  {
   "cell_type": "code",
   "execution_count": 4,
   "metadata": {},
   "outputs": [
    {
     "name": "stdout",
     "output_type": "stream",
     "text": [
      "0.1000100000000000016742163211347 0.1010000000000000064392935428259 0.2010100000000000219912976717751 0.2010000000000000119904086659517\n",
      " the relative of the difference is  4.97512437811487e-05\n"
     ]
    }
   ],
   "source": [
    "# if the relative error is 1.e-4, calculate the relative error of 0.1+0.101\n",
    "\n",
    "num1=0.1*(1.+1.e-4)\n",
    "num2=0.101\n",
    "numtrue=0.201\n",
    "print(\"%.31f %.31f %.31f %.31f\"%(num1,num2, num1+num2, numtrue))\n",
    "print(\" the relative of the difference is \",abs((num1+num2)/numtrue-1.))\n",
    "\n"
   ]
  },
  {
   "cell_type": "code",
   "execution_count": 5,
   "metadata": {},
   "outputs": [
    {
     "name": "stdout",
     "output_type": "stream",
     "text": [
      "0.1000100000000000016742163211347 0.1010000000000000064392935428259 -0.0009900000000000047650772216912 -0.0010000000000000000208166817117\n",
      " the relative of the difference is  0.009999999999995235\n"
     ]
    }
   ],
   "source": [
    "# if the relative error is 1.e-4, calculate the relative error of 0.1-0.101\n",
    "num1=0.1*(1.+1.e-4)\n",
    "num2=0.101\n",
    "numtrue=-0.001\n",
    "print(\"%.31f %.31f %.31f %.31f\"%(num1,num2, num1-num2, numtrue))\n",
    "print(\" the relative of the difference is \",abs((num1-num2)/numtrue-1.))\n",
    "\n"
   ]
  },
  {
   "cell_type": "markdown",
   "metadata": {},
   "source": [
    "### 1.2 operation with machine error  "
   ]
  },
  {
   "cell_type": "code",
   "execution_count": 6,
   "metadata": {},
   "outputs": [
    {
     "name": "stdout",
     "output_type": "stream",
     "text": [
      "0.1000000000000000055511151231258 0.2000000000000000111022302462516 0.3000000000000000444089209850063 0.2999999999999999888977697537484\n",
      " the relative of the difference is  2.220446049250313e-16\n"
     ]
    }
   ],
   "source": [
    "# error in operations, plus\n",
    "\n",
    "num1 = 0.1\n",
    "num2 = 0.2\n",
    "num3 = 0.3\n",
    "print(\"%.31f %.31f %.31f %.31f\"%(num1,num2, num1+num2, num3))\n",
    "print(\" the relative of the difference is \",abs((num1+num2)/num3-1.))"
   ]
  },
  {
   "cell_type": "code",
   "execution_count": 7,
   "metadata": {},
   "outputs": [
    {
     "name": "stdout",
     "output_type": "stream",
     "text": [
      "0.1000000000000000055511151231258 0.2000000000000000111022302462516 0.0200000000000000038857805861880 0.0200000000000000004163336342344\n",
      " the relative of the difference is  2.220446049250313e-16\n"
     ]
    }
   ],
   "source": [
    "# error in operations, multiply\n",
    "\n",
    "num1 = 0.1\n",
    "num2 = 0.2\n",
    "num3 = 0.02\n",
    "print(\"%.31f %.31f %.31f %.31f\"%(num1,num2, num1*num2, num3))\n",
    "print(\" the relative of the difference is \",abs((num1*num2)/num3-1.))"
   ]
  },
  {
   "cell_type": "code",
   "execution_count": 8,
   "metadata": {},
   "outputs": [
    {
     "name": "stdout",
     "output_type": "stream",
     "text": [
      "0.1000000000000000055511151231258 0.2999999999999999888977697537484 0.3333333333333333703407674875052 0.3333333333333333148296162562474\n",
      " the relative of the difference is  2.220446049250313e-16\n"
     ]
    }
   ],
   "source": [
    "# error in operations, division\n",
    "\n",
    "num1 = 0.1\n",
    "num2 = 0.3\n",
    "num3 = 0.333333333333333333333333333\n",
    "print(\"%.31f %.31f %.31f %.31f\"%(num1,num2, num1/num2, num3))\n",
    "print(\" the relative of the difference is \",abs((num1/num2)/num3-1.))"
   ]
  },
  {
   "cell_type": "code",
   "execution_count": 9,
   "metadata": {},
   "outputs": [
    {
     "name": "stdout",
     "output_type": "stream",
     "text": [
      "0.2000000000000999866855977415980 0.2000000000000000111022302462516 0.0000000000000999755833674953465 0.0000000000001000000000000000030\n",
      " the relative of the difference is  0.00024416632504653535\n"
     ]
    }
   ],
   "source": [
    "# error in operations, substraction\n",
    "\n",
    "num1 = 0.2000000000001\n",
    "num2 = 0.2\n",
    "\n",
    "num3=0.0000000000001\n",
    "print(\"%.31f %.31f %.31f %.31f\"%(num1,num2, num1-num2, num3))\n",
    "print(\" the relative of the difference is \",abs((num1-num2)/num3-1.))"
   ]
  },
  {
   "cell_type": "markdown",
   "metadata": {},
   "source": [
    "## 2. How to calculate sin(x): When to stop\n",
    "### 2.1 using built-in functions"
   ]
  },
  {
   "cell_type": "code",
   "execution_count": 10,
   "metadata": {},
   "outputs": [
    {
     "data": {
      "text/plain": [
       "-0.46460217941375737"
      ]
     },
     "execution_count": 10,
     "metadata": {},
     "output_type": "execute_result"
    }
   ],
   "source": [
    "import numpy as np\n",
    "np.sin(5.8)"
   ]
  },
  {
   "cell_type": "markdown",
   "metadata": {},
   "source": [
    "### 2.2 using summing series\n",
    "\n",
    "\\begin{equation}\n",
    "{\\rm sin} \\,x=x-\\frac{x^3}{3!}+\\frac{x^5}{5!}-\\frac{x^7}{7!} + ...\n",
    "\\end{equation}\n",
    "or\n",
    "\\begin{equation}\n",
    "{\\rm sin} \\,x \\simeq \\sum_{i=1}^{N}\\frac{(-1)^{i-1}x^{2i-1}}{(2i-1)!}\n",
    "\\end{equation}"
   ]
  },
  {
   "cell_type": "code",
   "execution_count": 11,
   "metadata": {},
   "outputs": [],
   "source": [
    "from math import factorial\n",
    "\n",
    "def sin1(x, n):\n",
    "    sin1 = 0.0\n",
    "    for i in range(1,n+1):\n",
    "        sin1+=  ((-1)**(i-1) * x**(2*i-1))/factorial(2*i-1)\n",
    "    return sin1"
   ]
  },
  {
   "cell_type": "code",
   "execution_count": 12,
   "metadata": {},
   "outputs": [
    {
     "name": "stdout",
     "output_type": "stream",
     "text": [
      "-0.4646021794137545\n",
      "--- 0.000102996826171875 seconds ---\n"
     ]
    }
   ],
   "source": [
    "import time\n",
    "start_time = time.time()\n",
    "print(sin1(5.8,20)) # compare with -0.46460217941375737\n",
    "print(\"--- %s seconds ---\" % (time.time() - start_time))"
   ]
  },
  {
   "cell_type": "markdown",
   "metadata": {},
   "source": [
    "### 2.3 using summing series but use relationship between different series\n",
    "\n",
    "\\begin{equation}\n",
    "i\\text{th\\, term}=\\frac{-x^2}{(2i-1)(2i-2)} \\times(i-1)\\text{th\\, term}\n",
    "\\end{equation}"
   ]
  },
  {
   "cell_type": "code",
   "execution_count": 13,
   "metadata": {},
   "outputs": [],
   "source": [
    "import numpy as np\n",
    "\n",
    "def sin2(x, n):\n",
    "    sin2 = 0.0\n",
    "    im1th = x\n",
    "    sin2 = im1th\n",
    "    for i in range(2,n+1):\n",
    "        ith = im1th * -x**2 / (2*i-1) / (2*i - 2)\n",
    "        sin2 += ith\n",
    "        im1th = ith\n",
    "        print(i,sin2,ith)\n",
    "    return sin2"
   ]
  },
  {
   "cell_type": "code",
   "execution_count": 14,
   "metadata": {},
   "outputs": [
    {
     "name": "stdout",
     "output_type": "stream",
     "text": [
      "2 -26.718666666666667 -32.51866666666667\n",
      "3 27.97773066666667 54.69639733333334\n",
      "4 -15.831479006984129 -43.8092096736508\n",
      "5 4.637157290538273 20.4686362975224\n",
      "6 -1.6225238462676685 -6.259681136805941\n",
      "7 -0.2726797857410539 1.3498440605266147\n",
      "8 -0.4889119485796982 -0.21623216283864435\n",
      "9 -0.4621691178521541 0.026742830727544104\n",
      "10 -0.4647996114944774 -0.002630493642323344\n",
      "11 -0.4645889214798875 0.0002106900145898983\n",
      "12 -0.4646029286184069 -1.4007138519375849e-05\n",
      "13 -0.46460214328484056 7.853335663196727e-07\n",
      "14 -0.46460218091820404 -3.7633363491444145e-08\n",
      "15 -0.4646021793591076 1.5590964875026861e-09\n",
      "16 -0.4646021794155033 -5.63957052038606e-11\n",
      "17 -0.46460217941370674 1.7965450028957105e-12\n",
      "18 -0.46460217941375753 -5.07863646196737e-14\n",
      "19 -0.46460217941375626 1.2826226019563238e-15\n",
      "20 -0.4646021794137563 -2.91143214101287e-17\n",
      "-0.4646021794137563\n",
      "--- 0.00019288063049316406 seconds ---\n"
     ]
    }
   ],
   "source": [
    "import time\n",
    "start_time = time.time()\n",
    "val = sin2(5.8,20)\n",
    "print(val)\n",
    "print(\"--- %s seconds ---\" % (time.time() - start_time)) # compare with -0.46460217941375737"
   ]
  },
  {
   "cell_type": "code",
   "execution_count": 15,
   "metadata": {},
   "outputs": [
    {
     "name": "stdout",
     "output_type": "stream",
     "text": [
      "2 -26.718666666666667 -32.51866666666667\n",
      "3 27.97773066666667 54.69639733333334\n",
      "4 -15.831479006984129 -43.8092096736508\n",
      "5 4.637157290538273 20.4686362975224\n",
      "6 -1.6225238462676685 -6.259681136805941\n",
      "7 -0.2726797857410539 1.3498440605266147\n",
      "8 -0.4889119485796982 -0.21623216283864435\n",
      "9 -0.4621691178521541 0.026742830727544104\n",
      "10 -0.4647996114944774 -0.002630493642323344\n",
      "11 -0.4645889214798875 0.0002106900145898983\n",
      "12 -0.4646029286184069 -1.4007138519375849e-05\n",
      "13 -0.46460214328484056 7.853335663196727e-07\n",
      "14 -0.46460218091820404 -3.7633363491444145e-08\n",
      "15 -0.4646021793591076 1.5590964875026861e-09\n",
      "16 -0.4646021794155033 -5.63957052038606e-11\n",
      "17 -0.46460217941370674 1.7965450028957105e-12\n",
      "18 -0.46460217941375753 -5.07863646196737e-14\n",
      "19 -0.46460217941375626 1.2826226019563238e-15\n",
      "20 -0.4646021794137563 -2.91143214101287e-17\n",
      "21 -0.4646021794137563 5.971986416077618e-19\n",
      "22 -0.4646021794137563 -1.112389939295964e-20\n",
      "23 -0.4646021794137563 1.8899392706018298e-22\n",
      "24 -0.4646021794137563 -2.9406825653582588e-24\n",
      "25 -0.4646021794137563 4.2059762541943806e-26\n",
      "-0.4646021794137563\n"
     ]
    }
   ],
   "source": [
    "print(sin2(5.8,25)) "
   ]
  },
  {
   "cell_type": "markdown",
   "metadata": {},
   "source": [
    "When to stop?  \n",
    "\n",
    "The new term is smaller than the round-off error  \n",
    "|nth term/sum|<1.e-16\n"
   ]
  },
  {
   "cell_type": "code",
   "execution_count": 16,
   "metadata": {},
   "outputs": [],
   "source": [
    "import numpy as np\n",
    "\n",
    "def sin3(x, n):\n",
    "    sin3 = 0.0\n",
    "    nm1th = x\n",
    "    sin3 = nm1th\n",
    "    for i in range(2,n+1):\n",
    "        nth = nm1th*(-x*x)/(2*i-1)/(2*i-2)\n",
    "        sin3 += nth\n",
    "        nm1th = nth\n",
    "        print(i,sin3,nth)\n",
    "        if abs(nth/sin3)<1.e-16:\n",
    "            return sin3\n",
    "    return sin3"
   ]
  },
  {
   "cell_type": "code",
   "execution_count": 17,
   "metadata": {},
   "outputs": [
    {
     "name": "stdout",
     "output_type": "stream",
     "text": [
      "1\n"
     ]
    }
   ],
   "source": [
    "print(abs(-1))"
   ]
  },
  {
   "cell_type": "code",
   "execution_count": 18,
   "metadata": {},
   "outputs": [
    {
     "name": "stdout",
     "output_type": "stream",
     "text": [
      "2 -26.718666666666667 -32.51866666666667\n",
      "3 27.97773066666667 54.69639733333334\n",
      "4 -15.831479006984129 -43.8092096736508\n",
      "5 4.637157290538273 20.4686362975224\n",
      "6 -1.6225238462676685 -6.259681136805941\n",
      "7 -0.2726797857410539 1.3498440605266147\n",
      "8 -0.4889119485796982 -0.21623216283864435\n",
      "9 -0.4621691178521541 0.026742830727544104\n",
      "10 -0.4647996114944774 -0.002630493642323344\n",
      "11 -0.4645889214798875 0.0002106900145898983\n",
      "12 -0.4646029286184069 -1.4007138519375849e-05\n",
      "13 -0.46460214328484056 7.853335663196727e-07\n",
      "14 -0.46460218091820404 -3.7633363491444145e-08\n",
      "15 -0.4646021793591076 1.5590964875026861e-09\n",
      "16 -0.4646021794155033 -5.63957052038606e-11\n",
      "17 -0.46460217941370674 1.7965450028957105e-12\n",
      "18 -0.46460217941375753 -5.07863646196737e-14\n",
      "19 -0.46460217941375626 1.2826226019563238e-15\n",
      "20 -0.4646021794137563 -2.91143214101287e-17\n",
      "-0.4646021794137563\n",
      "--- 0.000194549560546875 seconds ---\n"
     ]
    }
   ],
   "source": [
    "import time\n",
    "start_time = time.time()\n",
    "print(sin3(5.8,23))\n",
    "print(\"--- %s seconds ---\" % (time.time() - start_time))"
   ]
  },
  {
   "cell_type": "markdown",
   "metadata": {},
   "source": [
    "# How to calculate $e^x$ : very careful with subtraction\n",
    "\n",
    "\\begin{equation}\n",
    "e^x=1+x+\\frac{x^2}{2!}+\\frac{x^3}{3!}+...\n",
    "\\end{equation}"
   ]
  },
  {
   "cell_type": "code",
   "execution_count": 19,
   "metadata": {},
   "outputs": [
    {
     "name": "stdout",
     "output_type": "stream",
     "text": [
      "2.718281828459045 0.36787944117144233\n"
     ]
    }
   ],
   "source": [
    "import numpy as np\n",
    "print(np.e,np.e**(-1))"
   ]
  },
  {
   "cell_type": "code",
   "execution_count": 20,
   "metadata": {},
   "outputs": [],
   "source": [
    "import numpy as np\n",
    "from math import factorial\n",
    "\n",
    "def exp1(x, n):\n",
    "    exp1 = 0.0\n",
    "    for i in range(n):\n",
    "        exp1+=x**i/factorial(i)\n",
    "    return exp1"
   ]
  },
  {
   "cell_type": "code",
   "execution_count": 21,
   "metadata": {},
   "outputs": [
    {
     "name": "stdout",
     "output_type": "stream",
     "text": [
      "-6.061310256546751e-05\n",
      "0.3678832116788321\n"
     ]
    }
   ],
   "source": [
    "exact=np.e**(-1)\n",
    "print((exp1(-1,8)-exact)/exact)\n",
    "# what is a better way to calculate this ?\n",
    "print(1/exp1(1,8))"
   ]
  },
  {
   "cell_type": "markdown",
   "metadata": {},
   "source": [
    "# 2. Truncation Error\n",
    "\n",
    "Truncation error is the error made by   \n",
    "1) truncating an infinite sum and approximating it by a finite sum   \n",
    "2) discretization error: error due to taking a finite number for steps instead of an infinite number\n",
    "\n",
    "##  2.1 Differentiation\n",
    "\n",
    "Study the trajector of a capsule during its reentry to earth (as in movie \"hidden figures\"). According to  newton's second\n",
    "law, \n",
    "\\begin{equation}\n",
    "F=m \\frac{d {\\bf v}}{ dt}\n",
    "\\end{equation}\n",
    "\n",
    "We need to calculate ${\\bf v} = dy(t)/dt $. \n",
    "Formally, it is $lim_{h-> 0}\\frac{y(t+h)-y(t)}{h}$. But we cannot do it numerically in this way due to the machine precision. We have to take a finite h, which introduces error."
   ]
  },
  {
   "cell_type": "markdown",
   "metadata": {},
   "source": [
    "## 2.2 First derivative\n",
    "\n",
    "### Forward difference:\n",
    "\n",
    "\\begin{equation}\n",
    "\\frac{d y(t)}{dt}_{fw} = \\frac{y(t+h)-y(t)}{h}\n",
    "\\end{equation}\n",
    "\n",
    "Error estimate: using Taylor expansion\n",
    "\\begin{equation}\n",
    "y(t+h)=y(t)+h*y'(t)+\\frac{h^2}{2!}*y''(t)+\\frac{h^3}{3!}*y'''(t)+...\n",
    "\\end{equation}\n",
    "\n",
    "So\n",
    "\\begin{equation}\n",
    "\\frac{d y(t)}{dt}_{fw} = y'(t)+\\frac{h}{2!}*y''(t)+\\frac{h^2}{3!}*y'''(t)+...\n",
    "\\end{equation}\n",
    "\n",
    "Error is $\\frac{h}{2!}*y''(t)+\\frac{h^2}{3!}*y'''(t)+...$, the leading error is O(h).\n",
    "Draw a picture to show how forward difference works for the capsule's trajectory.\n",
    "\n",
    "### Central difference:\n",
    "\n",
    "\\begin{equation}\n",
    "\\frac{d y(t)}{dt}_{cd} = \\frac{y(t+h/2)-y(t-h/2)}{h}\n",
    "\\end{equation}\n",
    "\n",
    "Draw a figure. \n",
    "\\begin{equation}\n",
    "y(t+h/2)=y(t)+h/2*y'(t)+\\frac{(h/2)^2}{2!}*y''(t)+\\frac{(h/2)^3}{3!}*y'''(t)+\\frac{(h/2)^4}{4!}*y^{(4)}(t)+\\frac{(h/2)^5}{5!}*y^{(5)}(t)+.... \n",
    "\\end{equation}\n",
    "\n",
    "\\begin{equation}\n",
    "y(t-h/2)=y(t)-h/2*y'(t)+\\frac{(h/2)^2}{2!}*y''(t)-\\frac{(h/2)^3}{3!}*y'''(t)+\\frac{(h/2)^4}{4!}*y^{(4)}(t)-\\frac{(h/2)^5}{5!}*y^{(5)}(t)+....\n",
    "\\end{equation}\n",
    "So  \n",
    "\\begin{equation}\n",
    "\\frac{d y(t)}{dt}_{cd} = y'(t) + \\frac{h^2}{4*3!}*y'''(t)+\\frac{(h^4)}{2^4*5!}*y^(5)(t)....\n",
    "\\end{equation}\n",
    "Error is $O(h^2)$. \n",
    "\n",
    "### Extrapolated Difference:\n",
    "\n",
    "We can extend the method to even higher order accuracy:\n",
    "\\begin{equation}\n",
    "\\frac{d y(t)}{dt}_{cd,1} = \\frac{y(t+h/2)-y(t-h/2)}{h}\n",
    "\\end{equation}\n",
    "\n",
    "\\begin{equation}\n",
    "\\frac{d y(t)}{dt}_{cd,2} = \\frac{y(t+h/4)-y(t-h/4)}{h/2}\n",
    "\\end{equation}\n",
    "\n",
    "So  \n",
    "\\begin{equation}\n",
    "\\frac{d y(t)}{dt}_{cd,1} = y'(t) + \\frac{h^2}{2^3/2*3!}*y'''(t) + \\frac{(h^4}{2^5/2*5!}*y^{(5)}(t)....\n",
    "\\end{equation}\n",
    "\n",
    "\\begin{equation}\n",
    "\\frac{d y(t)}{dt}_{cd,2} = y'(t) + \\frac{h^2}{4^3/4*3!}*y'''(t) + \\frac{(h^4}{4^5/4*5!}*y^{(5)}(t)....\n",
    "\\end{equation}\n",
    "Then we have\n",
    "\\begin{equation}\n",
    "\\frac{d y(t)}{dt}_{ed} = \\frac{4*\\frac{d y(t)}{dt}_{cd,2}-\\frac{d y(t)}{dt}_{cd,1}}{3}\n",
    "\\end{equation}\n",
    "\n",
    "So the error is $O(h^4)=-\\frac{h^4}{64*120}*y^{(5)}(t)....$"
   ]
  },
  {
   "cell_type": "code",
   "execution_count": 22,
   "metadata": {},
   "outputs": [],
   "source": [
    "import numpy as np\n",
    "\n",
    "def derifw(y,x,dx):\n",
    "    return (y(x+dx)-y(x))/dx\n",
    "\n",
    "def dericd(y,x,dx):\n",
    "    return ((y(x+0.5*dx)) - (y(x-0.5*dx)))/dx\n",
    "    #please write your own central difference scheme\n",
    "\n",
    "def deried(y,x,dx):\n",
    "    ed1 = dericd(y,x,dx)\n",
    "    ed2 = dericd(y,x,0.5*dx)\n",
    "    return (4*ed2 - ed1)/3\n",
    "    #please write your own extrapolated difference scheme\n",
    "    "
   ]
  },
  {
   "cell_type": "code",
   "execution_count": 23,
   "metadata": {},
   "outputs": [
    {
     "name": "stdout",
     "output_type": "stream",
     "text": [
      "forward difference 0.4973637525353891\n",
      "central difference 0.5400772080464322\n",
      "extrapolated difference 0.5403022988334757\n",
      "analytical result 0.5403023058681398\n"
     ]
    }
   ],
   "source": [
    "import numpy as np\n",
    "\n",
    "x=1.0\n",
    "dx=0.1\n",
    "print('forward difference',derifw(np.sin,x,dx))\n",
    "print('central difference',dericd(np.sin,x,dx))\n",
    "print('extrapolated difference',deried(np.sin,x,dx))\n",
    "print('analytical result',np.cos(x))"
   ]
  },
  {
   "cell_type": "code",
   "execution_count": null,
   "metadata": {},
   "outputs": [],
   "source": []
  }
 ],
 "metadata": {
  "kernelspec": {
   "display_name": "Python [default]",
   "language": "python",
   "name": "python3"
  },
  "language_info": {
   "codemirror_mode": {
    "name": "ipython",
    "version": 3
   },
   "file_extension": ".py",
   "mimetype": "text/x-python",
   "name": "python",
   "nbconvert_exporter": "python",
   "pygments_lexer": "ipython3",
   "version": "3.11.7"
  }
 },
 "nbformat": 4,
 "nbformat_minor": 2
}
